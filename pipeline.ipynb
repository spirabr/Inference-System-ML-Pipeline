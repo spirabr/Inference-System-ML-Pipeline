{
 "cells": [
  {
   "attachments": {},
   "cell_type": "markdown",
   "metadata": {},
   "source": [
    "# Declare your model here"
   ]
  },
  {
   "cell_type": "code",
   "execution_count": 25,
   "metadata": {},
   "outputs": [
    {
     "name": "stderr",
     "output_type": "stream",
     "text": [
      "/usr/lib/python3/dist-packages/requests/__init__.py:89: RequestsDependencyWarning: urllib3 (1.26.13) or chardet (3.0.4) doesn't match a supported version!\n",
      "  warnings.warn(\"urllib3 ({}) or chardet ({}) doesn't match a supported \"\n"
     ]
    }
   ],
   "source": [
    "from typing import List, Tuple\n",
    "from mlflow.pyfunc import PythonModel\n",
    "\n",
    "\n",
    "class ModelTemplate(PythonModel):\n",
    "\n",
    "    def load_context(self, context) -> None:\n",
    "      pass\n",
    "\n",
    "    def predict(self, context, model_input) -> Tuple[List[float],str]:\n",
    "      pass"
   ]
  },
  {
   "attachments": {},
   "cell_type": "markdown",
   "metadata": {},
   "source": [
    "## Loading environment variables into the notebook"
   ]
  },
  {
   "cell_type": "code",
   "execution_count": 33,
   "metadata": {},
   "outputs": [],
   "source": [
    "%dotenv"
   ]
  },
  {
   "attachments": {},
   "cell_type": "markdown",
   "metadata": {},
   "source": [
    "# Registering the model in MLFlow"
   ]
  },
  {
   "cell_type": "code",
   "execution_count": 26,
   "metadata": {},
   "outputs": [
    {
     "ename": "MlflowException",
     "evalue": "Model Registry features are not supported by the store with URI: 'connection-url-of-mlflow-server'. Stores with the following URI schemes are supported: ['databricks', 'http', 'https', 'postgresql', 'mysql', 'sqlite', 'mssql'].",
     "output_type": "error",
     "traceback": [
      "\u001b[0;31m---------------------------------------------------------------------------\u001b[0m",
      "\u001b[0;31mKeyError\u001b[0m                                  Traceback (most recent call last)",
      "File \u001b[0;32m~/.local/lib/python3.8/site-packages/mlflow/tracking/registry.py:76\u001b[0m, in \u001b[0;36mStoreRegistry.get_store_builder\u001b[0;34m(self, store_uri)\u001b[0m\n\u001b[1;32m     75\u001b[0m \u001b[39mtry\u001b[39;00m:\n\u001b[0;32m---> 76\u001b[0m     store_builder \u001b[39m=\u001b[39m \u001b[39mself\u001b[39;49m\u001b[39m.\u001b[39;49m_registry[scheme]\n\u001b[1;32m     77\u001b[0m \u001b[39mexcept\u001b[39;00m \u001b[39mKeyError\u001b[39;00m:\n",
      "\u001b[0;31mKeyError\u001b[0m: ''",
      "\nDuring handling of the above exception, another exception occurred:\n",
      "\u001b[0;31mUnsupportedModelRegistryStoreURIException\u001b[0m Traceback (most recent call last)",
      "File \u001b[0;32m~/.local/lib/python3.8/site-packages/mlflow/tracking/client.py:95\u001b[0m, in \u001b[0;36mMlflowClient._get_registry_client\u001b[0;34m(self)\u001b[0m\n\u001b[1;32m     94\u001b[0m \u001b[39mtry\u001b[39;00m:\n\u001b[0;32m---> 95\u001b[0m     registry_client \u001b[39m=\u001b[39m ModelRegistryClient(\u001b[39mself\u001b[39;49m\u001b[39m.\u001b[39;49m_registry_uri)\n\u001b[1;32m     96\u001b[0m     \u001b[39m# Define an instance variable on this `MlflowClient` instance to reference the\u001b[39;00m\n\u001b[1;32m     97\u001b[0m     \u001b[39m# `ModelRegistryClient` that was just constructed. `setattr()` is used to ensure\u001b[39;00m\n\u001b[1;32m     98\u001b[0m     \u001b[39m# that the variable name is consistent with the variable name specified in the\u001b[39;00m\n\u001b[1;32m     99\u001b[0m     \u001b[39m# preceding call to `getattr()`\u001b[39;00m\n",
      "File \u001b[0;32m~/.local/lib/python3.8/site-packages/mlflow/tracking/_model_registry/client.py:36\u001b[0m, in \u001b[0;36mModelRegistryClient.__init__\u001b[0;34m(self, registry_uri)\u001b[0m\n\u001b[1;32m     33\u001b[0m \u001b[39m# NB: Fetch the tracking store (`self.store`) upon client initialization to ensure that\u001b[39;00m\n\u001b[1;32m     34\u001b[0m \u001b[39m# the tracking URI is valid and the store can be properly resolved. We define `store` as a\u001b[39;00m\n\u001b[1;32m     35\u001b[0m \u001b[39m# property method to ensure that the client is serializable, even if the store is not\u001b[39;00m\n\u001b[0;32m---> 36\u001b[0m \u001b[39mself\u001b[39;49m\u001b[39m.\u001b[39;49mstore\n",
      "File \u001b[0;32m~/.local/lib/python3.8/site-packages/mlflow/tracking/_model_registry/client.py:40\u001b[0m, in \u001b[0;36mModelRegistryClient.store\u001b[0;34m(self)\u001b[0m\n\u001b[1;32m     38\u001b[0m \u001b[39m@property\u001b[39m\n\u001b[1;32m     39\u001b[0m \u001b[39mdef\u001b[39;00m \u001b[39mstore\u001b[39m(\u001b[39mself\u001b[39m):\n\u001b[0;32m---> 40\u001b[0m     \u001b[39mreturn\u001b[39;00m utils\u001b[39m.\u001b[39;49m_get_store(\u001b[39mself\u001b[39;49m\u001b[39m.\u001b[39;49mregistry_uri)\n",
      "File \u001b[0;32m~/.local/lib/python3.8/site-packages/mlflow/tracking/_model_registry/utils.py:171\u001b[0m, in \u001b[0;36m_get_store\u001b[0;34m(store_uri)\u001b[0m\n\u001b[1;32m    170\u001b[0m \u001b[39mdef\u001b[39;00m \u001b[39m_get_store\u001b[39m(store_uri\u001b[39m=\u001b[39m\u001b[39mNone\u001b[39;00m):\n\u001b[0;32m--> 171\u001b[0m     \u001b[39mreturn\u001b[39;00m _get_store_registry()\u001b[39m.\u001b[39;49mget_store(store_uri)\n",
      "File \u001b[0;32m~/.local/lib/python3.8/site-packages/mlflow/tracking/_model_registry/registry.py:37\u001b[0m, in \u001b[0;36mModelRegistryStoreRegistry.get_store\u001b[0;34m(self, store_uri)\u001b[0m\n\u001b[1;32m     36\u001b[0m resolved_store_uri \u001b[39m=\u001b[39m utils\u001b[39m.\u001b[39m_resolve_registry_uri(store_uri)\n\u001b[0;32m---> 37\u001b[0m \u001b[39mreturn\u001b[39;00m \u001b[39mself\u001b[39;49m\u001b[39m.\u001b[39;49m_get_store_with_resolved_uri(resolved_store_uri)\n",
      "File \u001b[0;32m~/.local/lib/python3.8/site-packages/mlflow/tracking/_model_registry/registry.py:46\u001b[0m, in \u001b[0;36mModelRegistryStoreRegistry._get_store_with_resolved_uri\u001b[0;34m(self, resolved_store_uri)\u001b[0m\n\u001b[1;32m     41\u001b[0m \u001b[39m\"\"\"\u001b[39;00m\n\u001b[1;32m     42\u001b[0m \u001b[39mRetrieve the store associated with a resolved (non-None) store URI and an artifact URI.\u001b[39;00m\n\u001b[1;32m     43\u001b[0m \u001b[39mCaching is done on resolved URIs because the meaning of an unresolved (None) URI may change\u001b[39;00m\n\u001b[1;32m     44\u001b[0m \u001b[39mdepending on external configuration, such as environment variables\u001b[39;00m\n\u001b[1;32m     45\u001b[0m \u001b[39m\"\"\"\u001b[39;00m\n\u001b[0;32m---> 46\u001b[0m builder \u001b[39m=\u001b[39m \u001b[39mself\u001b[39;49m\u001b[39m.\u001b[39;49mget_store_builder(resolved_store_uri)\n\u001b[1;32m     47\u001b[0m \u001b[39mreturn\u001b[39;00m builder(store_uri\u001b[39m=\u001b[39mresolved_store_uri)\n",
      "File \u001b[0;32m~/.local/lib/python3.8/site-packages/mlflow/tracking/registry.py:78\u001b[0m, in \u001b[0;36mStoreRegistry.get_store_builder\u001b[0;34m(self, store_uri)\u001b[0m\n\u001b[1;32m     77\u001b[0m \u001b[39mexcept\u001b[39;00m \u001b[39mKeyError\u001b[39;00m:\n\u001b[0;32m---> 78\u001b[0m     \u001b[39mraise\u001b[39;00m UnsupportedModelRegistryStoreURIException(\n\u001b[1;32m     79\u001b[0m         unsupported_uri\u001b[39m=\u001b[39mstore_uri, supported_uri_schemes\u001b[39m=\u001b[39m\u001b[39mlist\u001b[39m(\u001b[39mself\u001b[39m\u001b[39m.\u001b[39m_registry\u001b[39m.\u001b[39mkeys())\n\u001b[1;32m     80\u001b[0m     )\n\u001b[1;32m     81\u001b[0m \u001b[39mreturn\u001b[39;00m store_builder\n",
      "\u001b[0;31mUnsupportedModelRegistryStoreURIException\u001b[0m:  Model registry functionality is unavailable; got unsupported URI 'connection-url-of-mlflow-server' for model registry data storage. Supported URI schemes are: ['databricks', 'http', 'https', 'postgresql', 'mysql', 'sqlite', 'mssql']. See https://www.mlflow.org/docs/latest/tracking.html#storage for how to run an MLflow server against one of the supported backend storage locations.",
      "\nDuring handling of the above exception, another exception occurred:\n",
      "\u001b[0;31mMlflowException\u001b[0m                           Traceback (most recent call last)",
      "Cell \u001b[0;32mIn [26], line 24\u001b[0m\n\u001b[1;32m     17\u001b[0m   model \u001b[39m=\u001b[39m ModelTemplate()\n\u001b[1;32m     18\u001b[0m   mlflow\u001b[39m.\u001b[39mpyfunc\u001b[39m.\u001b[39mlog_model(\n\u001b[1;32m     19\u001b[0m     artifact_path\u001b[39m=\u001b[39m\u001b[39m\"\u001b[39m\u001b[39mpath-in-minio-to-model-artifacts\u001b[39m\u001b[39m\"\u001b[39m,\n\u001b[1;32m     20\u001b[0m     registered_model_name\u001b[39m=\u001b[39mmodel_name,\n\u001b[1;32m     21\u001b[0m     python_model\u001b[39m=\u001b[39mmodel\n\u001b[1;32m     22\u001b[0m   )\n\u001b[0;32m---> 24\u001b[0m register_model()\n\u001b[1;32m     26\u001b[0m \u001b[39m# change the version of the model to production in MLFlow UI\u001b[39;00m\n\u001b[1;32m     28\u001b[0m model_path \u001b[39m=\u001b[39m \u001b[39m\"\u001b[39m\u001b[39mmodels:/\u001b[39m\u001b[39m\"\u001b[39m\u001b[39m+\u001b[39mmodel_name\u001b[39m+\u001b[39m\u001b[39m\"\u001b[39m\u001b[39m/Production\u001b[39m\u001b[39m\"\u001b[39m\n",
      "Cell \u001b[0;32mIn [26], line 18\u001b[0m, in \u001b[0;36mregister_model\u001b[0;34m()\u001b[0m\n\u001b[1;32m     16\u001b[0m mlflow\u001b[39m.\u001b[39mset_tracking_uri(MLFLOW_CONN_URL)\n\u001b[1;32m     17\u001b[0m model \u001b[39m=\u001b[39m ModelTemplate()\n\u001b[0;32m---> 18\u001b[0m mlflow\u001b[39m.\u001b[39;49mpyfunc\u001b[39m.\u001b[39;49mlog_model(\n\u001b[1;32m     19\u001b[0m   artifact_path\u001b[39m=\u001b[39;49m\u001b[39m\"\u001b[39;49m\u001b[39mpath-in-minio-to-model-artifacts\u001b[39;49m\u001b[39m\"\u001b[39;49m,\n\u001b[1;32m     20\u001b[0m   registered_model_name\u001b[39m=\u001b[39;49mmodel_name,\n\u001b[1;32m     21\u001b[0m   python_model\u001b[39m=\u001b[39;49mmodel\n\u001b[1;32m     22\u001b[0m )\n",
      "File \u001b[0;32m~/.local/lib/python3.8/site-packages/mlflow/pyfunc/__init__.py:1447\u001b[0m, in \u001b[0;36mlog_model\u001b[0;34m(artifact_path, loader_module, data_path, code_path, conda_env, python_model, artifacts, registered_model_name, signature, input_example, await_registration_for, pip_requirements, extra_pip_requirements)\u001b[0m\n\u001b[1;32m   1344\u001b[0m \u001b[39m@format_docstring\u001b[39m(LOG_MODEL_PARAM_DOCS\u001b[39m.\u001b[39mformat(package_name\u001b[39m=\u001b[39m\u001b[39m\"\u001b[39m\u001b[39mscikit-learn\u001b[39m\u001b[39m\"\u001b[39m))\n\u001b[1;32m   1345\u001b[0m \u001b[39mdef\u001b[39;00m \u001b[39mlog_model\u001b[39m(\n\u001b[1;32m   1346\u001b[0m     artifact_path,\n\u001b[0;32m   (...)\u001b[0m\n\u001b[1;32m   1358\u001b[0m     extra_pip_requirements\u001b[39m=\u001b[39m\u001b[39mNone\u001b[39;00m,\n\u001b[1;32m   1359\u001b[0m ):\n\u001b[1;32m   1360\u001b[0m     \u001b[39m\"\"\"\u001b[39;00m\n\u001b[1;32m   1361\u001b[0m \u001b[39m    Log a Pyfunc model with custom inference logic and optional data dependencies as an MLflow\u001b[39;00m\n\u001b[1;32m   1362\u001b[0m \u001b[39m    artifact for the current run.\u001b[39;00m\n\u001b[0;32m   (...)\u001b[0m\n\u001b[1;32m   1445\u001b[0m \u001b[39m             metadata of the logged model.\u001b[39;00m\n\u001b[1;32m   1446\u001b[0m \u001b[39m    \"\"\"\u001b[39;00m\n\u001b[0;32m-> 1447\u001b[0m     \u001b[39mreturn\u001b[39;00m Model\u001b[39m.\u001b[39;49mlog(\n\u001b[1;32m   1448\u001b[0m         artifact_path\u001b[39m=\u001b[39;49martifact_path,\n\u001b[1;32m   1449\u001b[0m         flavor\u001b[39m=\u001b[39;49mmlflow\u001b[39m.\u001b[39;49mpyfunc,\n\u001b[1;32m   1450\u001b[0m         loader_module\u001b[39m=\u001b[39;49mloader_module,\n\u001b[1;32m   1451\u001b[0m         data_path\u001b[39m=\u001b[39;49mdata_path,\n\u001b[1;32m   1452\u001b[0m         code_path\u001b[39m=\u001b[39;49mcode_path,\n\u001b[1;32m   1453\u001b[0m         python_model\u001b[39m=\u001b[39;49mpython_model,\n\u001b[1;32m   1454\u001b[0m         artifacts\u001b[39m=\u001b[39;49martifacts,\n\u001b[1;32m   1455\u001b[0m         conda_env\u001b[39m=\u001b[39;49mconda_env,\n\u001b[1;32m   1456\u001b[0m         registered_model_name\u001b[39m=\u001b[39;49mregistered_model_name,\n\u001b[1;32m   1457\u001b[0m         signature\u001b[39m=\u001b[39;49msignature,\n\u001b[1;32m   1458\u001b[0m         input_example\u001b[39m=\u001b[39;49minput_example,\n\u001b[1;32m   1459\u001b[0m         await_registration_for\u001b[39m=\u001b[39;49mawait_registration_for,\n\u001b[1;32m   1460\u001b[0m         pip_requirements\u001b[39m=\u001b[39;49mpip_requirements,\n\u001b[1;32m   1461\u001b[0m         extra_pip_requirements\u001b[39m=\u001b[39;49mextra_pip_requirements,\n\u001b[1;32m   1462\u001b[0m     )\n",
      "File \u001b[0;32m~/.local/lib/python3.8/site-packages/mlflow/models/model.py:384\u001b[0m, in \u001b[0;36mModel.log\u001b[0;34m(cls, artifact_path, flavor, registered_model_name, await_registration_for, **kwargs)\u001b[0m\n\u001b[1;32m    382\u001b[0m     \u001b[39mif\u001b[39;00m registered_model_name \u001b[39mis\u001b[39;00m \u001b[39mnot\u001b[39;00m \u001b[39mNone\u001b[39;00m:\n\u001b[1;32m    383\u001b[0m         run_id \u001b[39m=\u001b[39m mlflow\u001b[39m.\u001b[39mtracking\u001b[39m.\u001b[39mfluent\u001b[39m.\u001b[39mactive_run()\u001b[39m.\u001b[39minfo\u001b[39m.\u001b[39mrun_id\n\u001b[0;32m--> 384\u001b[0m         mlflow\u001b[39m.\u001b[39;49mregister_model(\n\u001b[1;32m    385\u001b[0m             \u001b[39m\"\u001b[39;49m\u001b[39mruns:/\u001b[39;49m\u001b[39m%s\u001b[39;49;00m\u001b[39m/\u001b[39;49m\u001b[39m%s\u001b[39;49;00m\u001b[39m\"\u001b[39;49m \u001b[39m%\u001b[39;49m (run_id, mlflow_model\u001b[39m.\u001b[39;49martifact_path),\n\u001b[1;32m    386\u001b[0m             registered_model_name,\n\u001b[1;32m    387\u001b[0m             await_registration_for\u001b[39m=\u001b[39;49mawait_registration_for,\n\u001b[1;32m    388\u001b[0m         )\n\u001b[1;32m    389\u001b[0m \u001b[39mreturn\u001b[39;00m mlflow_model\u001b[39m.\u001b[39mget_model_info()\n",
      "File \u001b[0;32m~/.local/lib/python3.8/site-packages/mlflow/tracking/_model_registry/fluent.py:74\u001b[0m, in \u001b[0;36mregister_model\u001b[0;34m(model_uri, name, await_registration_for, tags)\u001b[0m\n\u001b[1;32m     69\u001b[0m         eprint(\n\u001b[1;32m     70\u001b[0m             \u001b[39m\"\u001b[39m\u001b[39mRegistered model \u001b[39m\u001b[39m'\u001b[39m\u001b[39m%s\u001b[39;00m\u001b[39m'\u001b[39m\u001b[39m already exists. Creating a new version of this model...\u001b[39m\u001b[39m\"\u001b[39m\n\u001b[1;32m     71\u001b[0m             \u001b[39m%\u001b[39m name\n\u001b[1;32m     72\u001b[0m         )\n\u001b[1;32m     73\u001b[0m     \u001b[39melse\u001b[39;00m:\n\u001b[0;32m---> 74\u001b[0m         \u001b[39mraise\u001b[39;00m e\n\u001b[1;32m     76\u001b[0m \u001b[39mif\u001b[39;00m RunsArtifactRepository\u001b[39m.\u001b[39mis_runs_uri(model_uri):\n\u001b[1;32m     77\u001b[0m     source \u001b[39m=\u001b[39m RunsArtifactRepository\u001b[39m.\u001b[39mget_underlying_uri(model_uri)\n",
      "File \u001b[0;32m~/.local/lib/python3.8/site-packages/mlflow/tracking/_model_registry/fluent.py:65\u001b[0m, in \u001b[0;36mregister_model\u001b[0;34m(model_uri, name, await_registration_for, tags)\u001b[0m\n\u001b[1;32m     63\u001b[0m client \u001b[39m=\u001b[39m MlflowClient()\n\u001b[1;32m     64\u001b[0m \u001b[39mtry\u001b[39;00m:\n\u001b[0;32m---> 65\u001b[0m     create_model_response \u001b[39m=\u001b[39m client\u001b[39m.\u001b[39;49mcreate_registered_model(name)\n\u001b[1;32m     66\u001b[0m     eprint(\u001b[39m\"\u001b[39m\u001b[39mSuccessfully registered model \u001b[39m\u001b[39m'\u001b[39m\u001b[39m%s\u001b[39;00m\u001b[39m'\u001b[39m\u001b[39m.\u001b[39m\u001b[39m\"\u001b[39m \u001b[39m%\u001b[39m create_model_response\u001b[39m.\u001b[39mname)\n\u001b[1;32m     67\u001b[0m \u001b[39mexcept\u001b[39;00m MlflowException \u001b[39mas\u001b[39;00m e:\n",
      "File \u001b[0;32m~/.local/lib/python3.8/site-packages/mlflow/tracking/client.py:1713\u001b[0m, in \u001b[0;36mMlflowClient.create_registered_model\u001b[0;34m(self, name, tags, description)\u001b[0m\n\u001b[1;32m   1673\u001b[0m \u001b[39mdef\u001b[39;00m \u001b[39mcreate_registered_model\u001b[39m(\n\u001b[1;32m   1674\u001b[0m     \u001b[39mself\u001b[39m, name: \u001b[39mstr\u001b[39m, tags: Optional[Dict[\u001b[39mstr\u001b[39m, Any]] \u001b[39m=\u001b[39m \u001b[39mNone\u001b[39;00m, description: Optional[\u001b[39mstr\u001b[39m] \u001b[39m=\u001b[39m \u001b[39mNone\u001b[39;00m\n\u001b[1;32m   1675\u001b[0m ) \u001b[39m-\u001b[39m\u001b[39m>\u001b[39m RegisteredModel:\n\u001b[1;32m   1676\u001b[0m     \u001b[39m\"\"\"\u001b[39;00m\n\u001b[1;32m   1677\u001b[0m \u001b[39m    Create a new registered model in backend store.\u001b[39;00m\n\u001b[1;32m   1678\u001b[0m \n\u001b[0;32m   (...)\u001b[0m\n\u001b[1;32m   1711\u001b[0m \u001b[39m        description: This sentiment analysis model classifies the tone-happy, sad, angry.\u001b[39;00m\n\u001b[1;32m   1712\u001b[0m \u001b[39m    \"\"\"\u001b[39;00m\n\u001b[0;32m-> 1713\u001b[0m     \u001b[39mreturn\u001b[39;00m \u001b[39mself\u001b[39;49m\u001b[39m.\u001b[39;49m_get_registry_client()\u001b[39m.\u001b[39mcreate_registered_model(name, tags, description)\n",
      "File \u001b[0;32m~/.local/lib/python3.8/site-packages/mlflow/tracking/client.py:102\u001b[0m, in \u001b[0;36mMlflowClient._get_registry_client\u001b[0;34m(self)\u001b[0m\n\u001b[1;32m    100\u001b[0m         \u001b[39msetattr\u001b[39m(\u001b[39mself\u001b[39m, registry_client_attr, registry_client)\n\u001b[1;32m    101\u001b[0m     \u001b[39mexcept\u001b[39;00m UnsupportedModelRegistryStoreURIException \u001b[39mas\u001b[39;00m exc:\n\u001b[0;32m--> 102\u001b[0m         \u001b[39mraise\u001b[39;00m MlflowException(\n\u001b[1;32m    103\u001b[0m             \u001b[39m\"\u001b[39m\u001b[39mModel Registry features are not supported by the store with URI:\u001b[39m\u001b[39m\"\u001b[39m\n\u001b[1;32m    104\u001b[0m             \u001b[39m\"\u001b[39m\u001b[39m \u001b[39m\u001b[39m'\u001b[39m\u001b[39m{uri}\u001b[39;00m\u001b[39m'\u001b[39m\u001b[39m. Stores with the following URI schemes are supported:\u001b[39m\u001b[39m\"\u001b[39m\n\u001b[1;32m    105\u001b[0m             \u001b[39m\"\u001b[39m\u001b[39m \u001b[39m\u001b[39m{schemes}\u001b[39;00m\u001b[39m.\u001b[39m\u001b[39m\"\u001b[39m\u001b[39m.\u001b[39mformat(uri\u001b[39m=\u001b[39m\u001b[39mself\u001b[39m\u001b[39m.\u001b[39m_registry_uri, schemes\u001b[39m=\u001b[39mexc\u001b[39m.\u001b[39msupported_uri_schemes),\n\u001b[1;32m    106\u001b[0m             FEATURE_DISABLED,\n\u001b[1;32m    107\u001b[0m         )\n\u001b[1;32m    108\u001b[0m \u001b[39mreturn\u001b[39;00m registry_client\n",
      "\u001b[0;31mMlflowException\u001b[0m: Model Registry features are not supported by the store with URI: 'connection-url-of-mlflow-server'. Stores with the following URI schemes are supported: ['databricks', 'http', 'https', 'postgresql', 'mysql', 'sqlite', 'mssql']."
     ]
    }
   ],
   "source": [
    "import mlflow\n",
    "import os\n",
    "\n",
    "model_name = os.environ[\"MODEL_NAME\"]\n",
    "model_topic_name = os.environ[\"MODEL_TOPIC\"]\n",
    "\n",
    "def register_model():\n",
    "  mlflow.set_tracking_uri(os.environ[\"MLFLOW_CONN_URL\"])\n",
    "  model = ModelTemplate()\n",
    "  mlflow.pyfunc.log_model(\n",
    "    artifact_path=os.environ[\"MLFLOW_BUCKET_NAME\"],\n",
    "    registered_model_name=model_name,\n",
    "    python_model=model\n",
    "  )\n",
    "\n",
    "register_model()\n",
    "\n",
    "# change the version of the model to production in MLFlow UI\n",
    "\n",
    "model_path = \"models:/\"+model_name+\"/Production\""
   ]
  },
  {
   "attachments": {},
   "cell_type": "markdown",
   "metadata": {},
   "source": [
    "# Registering the model in the database"
   ]
  },
  {
   "cell_type": "code",
   "execution_count": null,
   "metadata": {},
   "outputs": [],
   "source": [
    "def register_model_in_database(name, topic):\n",
    "  import requests\n",
    "  import json\n",
    "  token_response = requests.post(os.environ[\"AUTH_ENDPOINT\"])\n",
    "  response_dict = json.loads(token_response.text)\n",
    "  token = response_dict[\"access_token\"]\n",
    "\n",
    "  requests.post(os.environ[\"MODEL_CREATION_ENDPOINT\"], headers={\"Authorization: Bearer\" + token}, data={\"name\": name, \"publishing_channel\": topic})\n",
    "\n",
    "\n",
    "register_model_in_database(model_name,model_topic_name)"
   ]
  },
  {
   "attachments": {},
   "cell_type": "markdown",
   "metadata": {},
   "source": [
    "# Cloning and setting up model server production reposityory"
   ]
  },
  {
   "cell_type": "code",
   "execution_count": 19,
   "metadata": {},
   "outputs": [
    {
     "data": {
      "text/plain": [
       "<git.repo.base.Repo '/mnt/c/Users/T-Gamer/Documents/USP/SPIRA/ML pipeline/test-1/.git'>"
      ]
     },
     "execution_count": 19,
     "metadata": {},
     "output_type": "execute_result"
    }
   ],
   "source": [
    "from git import Repo\n",
    "\n",
    "directory = \"./\" + model_name + \"/\"\n",
    "\n",
    "Repo.clone_from(\"https://github.com/spirabr/SPIRA-Inference-System.git\", directory)"
   ]
  },
  {
   "cell_type": "code",
   "execution_count": 22,
   "metadata": {},
   "outputs": [],
   "source": [
    "import os\n",
    "\n",
    "def substitute_occurence_in_file(occurence, replacement, dir, filename, new_filename = \"\"):\n",
    "  fin = open(dir + filename, \"rt\")\n",
    "  fout = open(dir + \"/tmp\", \"wt\")\n",
    "  for line in fin:\n",
    "    fout.write(line.replace(occurence, replacement))\n",
    "  fin.close()\n",
    "  fout.close()\n",
    "\n",
    "  if new_filename != \"\":\n",
    "    os.remove(dir + filename)\n",
    "    os.rename(dir + \"/tmp\",dir + new_filename)\n",
    "  else:\n",
    "    os.remove(dir + filename)\n",
    "    os.rename(dir + \"/tmp\",dir + filename)\n",
    "\n",
    "substitute_occurence_in_file('your-model-name-here', model_name, directory,\"docker-compose.server.yml\")\n",
    "substitute_occurence_in_file('your-model-name-here', model_name, directory,\"build-server.sh\")\n",
    "substitute_occurence_in_file('your-model-name-here', model_name, directory,\"stop-server.sh\")\n",
    "substitute_occurence_in_file('/path-to-project/', \"/home/spira-inference-system/model-deploys/\" + model_name + \"/\", directory,\"docker-compose-model@.service\")\n",
    "substitute_occurence_in_file('your-model-topic-here', model_topic_name, directory,\"example.env\",new_filename = \".env\")\n",
    "substitute_occurence_in_file('your-model-mlflow-path-here', model_path, directory,\".env\")"
   ]
  },
  {
   "attachments": {},
   "cell_type": "markdown",
   "metadata": {},
   "source": [
    "To run the server, create a symbolic link from /etc/systemd/system to docker-compose-model@.service and start it using systemctl."
   ]
  }
 ],
 "metadata": {
  "kernelspec": {
   "display_name": "Python 3.8.10 64-bit",
   "language": "python",
   "name": "python3"
  },
  "language_info": {
   "codemirror_mode": {
    "name": "ipython",
    "version": 3
   },
   "file_extension": ".py",
   "mimetype": "text/x-python",
   "name": "python",
   "nbconvert_exporter": "python",
   "pygments_lexer": "ipython3",
   "version": "3.8.10"
  },
  "orig_nbformat": 4,
  "vscode": {
   "interpreter": {
    "hash": "916dbcbb3f70747c44a77c7bcd40155683ae19c65e1c03b4aa3499c5328201f1"
   }
  }
 },
 "nbformat": 4,
 "nbformat_minor": 2
}
